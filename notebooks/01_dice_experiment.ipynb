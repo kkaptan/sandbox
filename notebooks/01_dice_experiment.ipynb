{
 "cells": [
  {
   "cell_type": "code",
   "execution_count": 1,
   "metadata": {
    "collapsed": true,
    "pycharm": {
     "name": "#%%\n"
    }
   },
   "outputs": [],
   "source": [
    "import pandas as pd"
   ]
  },
  {
   "cell_type": "code",
   "execution_count": 10,
   "outputs": [],
   "source": [
    "df = pd.read_csv('../data/dice_25rolls.csv')\n",
    "df.columns = ['avg', 'result']"
   ],
   "metadata": {
    "collapsed": false,
    "pycharm": {
     "name": "#%%\n"
    }
   }
  },
  {
   "cell_type": "code",
   "execution_count": null,
   "outputs": [],
   "source": [],
   "metadata": {
    "collapsed": false,
    "pycharm": {
     "name": "#%%\n"
    }
   }
  },
  {
   "cell_type": "code",
   "execution_count": 11,
   "outputs": [
    {
     "data": {
      "text/plain": "<AxesSubplot: >"
     },
     "execution_count": 11,
     "metadata": {},
     "output_type": "execute_result"
    },
    {
     "data": {
      "text/plain": "<Figure size 640x480 with 1 Axes>",
      "image/png": "[encoded data removed]"
     },
     "metadata": {},
     "output_type": "display_data"
    }
   ],
   "source": [
    "df['avg'].hist(bins=100)"
   ],
   "metadata": {
    "collapsed": false,
    "pycharm": {
     "name": "#%%\n"
    }
   }
  },
  {
   "cell_type": "code",
   "execution_count": 8,
   "outputs": [
    {
     "data": {
      "text/plain": "(5000000, 2)"
     },
     "execution_count": 8,
     "metadata": {},
     "output_type": "execute_result"
    }
   ],
   "source": [
    "df.shape"
   ],
   "metadata": {
    "collapsed": false,
    "pycharm": {
     "name": "#%%\n"
    }
   }
  },
  {
   "cell_type": "code",
   "execution_count": 15,
   "outputs": [
    {
     "data": {
      "text/plain": "          avg                                             result\n1164768  5.24  [4 6 6 5 6 6 6 5 5 4 4 6 6 5 6 2 6 5 6 6 6 6 2...\n1752628  5.08  [6 1 6 6 6 6 6 6 6 5 6 6 6 3 4 6 4 6 6 4 6 5 4...\n1969232  5.08  [6 6 6 5 5 6 6 4 6 4 5 6 6 5 2 5 2 6 4 5 6 3 6...\n2494602  5.12  [6 5 4 6 6 3 6 5 6 4 6 3 6 6 6 6 5 6 6 5 6 5 3...\n2808264  5.04  [6 6 4 6 3 4 4 6 5 1 5 5 6 5 5 6 5 5 6 5 6 6 4...\n3296225  5.08  [5 6 5 4 5 5 6 5 5 4 4 5 5 5 6 6 5 6 3 4 6 6 6...\n3945517  5.04  [6 1 4 3 6 6 5 6 4 6 5 6 6 4 5 5 6 6 2 6 6 5 6...\n4260823  5.16  [3 6 3 4 6 5 6 6 6 5 5 6 6 4 2 6 6 4 6 5 6 6 5...\n4922563  5.08  [6 5 5 6 6 6 6 3 6 6 5 3 6 6 5 6 1 5 6 6 6 6 2...",
      "text/html": "<div>\n<style scoped>\n    .dataframe tbody tr th:only-of-type {\n        vertical-align: middle;\n    }\n\n    .dataframe tbody tr th {\n        vertical-align: top;\n    }\n\n    .dataframe thead th {\n        text-align: right;\n    }\n</style>\n<table border=\"1\" class=\"dataframe\">\n  <thead>\n    <tr style=\"text-align: right;\">\n      <th></th>\n      <th>avg</th>\n      <th>result</th>\n    </tr>\n  </thead>\n  <tbody>\n    <tr>\n      <th>1164768</th>\n      <td>5.24</td>\n      <td>[4 6 6 5 6 6 6 5 5 4 4 6 6 5 6 2 6 5 6 6 6 6 2...</td>\n    </tr>\n    <tr>\n      <th>1752628</th>\n      <td>5.08</td>\n      <td>[6 1 6 6 6 6 6 6 6 5 6 6 6 3 4 6 4 6 6 4 6 5 4...</td>\n    </tr>\n    <tr>\n      <th>1969232</th>\n      <td>5.08</td>\n      <td>[6 6 6 5 5 6 6 4 6 4 5 6 6 5 2 5 2 6 4 5 6 3 6...</td>\n    </tr>\n    <tr>\n      <th>2494602</th>\n      <td>5.12</td>\n      <td>[6 5 4 6 6 3 6 5 6 4 6 3 6 6 6 6 5 6 6 5 6 5 3...</td>\n    </tr>\n    <tr>\n      <th>2808264</th>\n      <td>5.04</td>\n      <td>[6 6 4 6 3 4 4 6 5 1 5 5 6 5 5 6 5 5 6 5 6 6 4...</td>\n    </tr>\n    <tr>\n      <th>3296225</th>\n      <td>5.08</td>\n      <td>[5 6 5 4 5 5 6 5 5 4 4 5 5 5 6 6 5 6 3 4 6 6 6...</td>\n    </tr>\n    <tr>\n      <th>3945517</th>\n      <td>5.04</td>\n      <td>[6 1 4 3 6 6 5 6 4 6 5 6 6 4 5 5 6 6 2 6 6 5 6...</td>\n    </tr>\n    <tr>\n      <th>4260823</th>\n      <td>5.16</td>\n      <td>[3 6 3 4 6 5 6 6 6 5 5 6 6 4 2 6 6 4 6 5 6 6 5...</td>\n    </tr>\n    <tr>\n      <th>4922563</th>\n      <td>5.08</td>\n      <td>[6 5 5 6 6 6 6 3 6 6 5 3 6 6 5 6 1 5 6 6 6 6 2...</td>\n    </tr>\n  </tbody>\n</table>\n</div>"
     },
     "execution_count": 15,
     "metadata": {},
     "output_type": "execute_result"
    }
   ],
   "source": [
    "df[df['avg']>5]"
   ],
   "metadata": {
    "collapsed": false,
    "pycharm": {
     "name": "#%%\n"
    }
   }
  }
 ],
 "metadata": {
  "kernelspec": {
   "display_name": "Python 3",
   "language": "python",
   "name": "python3"
  },
  "language_info": {
   "codemirror_mode": {
    "name": "ipython",
    "version": 2
   },
   "file_extension": ".py",
   "mimetype": "text/x-python",
   "name": "python",
   "nbconvert_exporter": "python",
   "pygments_lexer": "ipython2",
   "version": "2.7.6"
  }
 },
 "nbformat": 4,
 "nbformat_minor": 0
}